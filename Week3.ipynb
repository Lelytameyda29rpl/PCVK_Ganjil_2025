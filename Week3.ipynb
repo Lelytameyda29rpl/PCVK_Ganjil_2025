{
  "nbformat": 4,
  "nbformat_minor": 0,
  "metadata": {
    "colab": {
      "provenance": [],
      "authorship_tag": "ABX9TyPDDj8aXKzTH4W18YRAC0a1",
      "include_colab_link": true
    },
    "kernelspec": {
      "name": "python3",
      "display_name": "Python 3"
    },
    "language_info": {
      "name": "python"
    }
  },
  "cells": [
    {
      "cell_type": "markdown",
      "metadata": {
        "id": "view-in-github",
        "colab_type": "text"
      },
      "source": [
        "<a href=\"https://colab.research.google.com/github/Lelytameyda29rpl/PCVK_Ganjil_2025/blob/main/Week3.ipynb\" target=\"_parent\"><img src=\"https://colab.research.google.com/assets/colab-badge.svg\" alt=\"Open In Colab\"/></a>"
      ]
    },
    {
      "cell_type": "markdown",
      "source": [
        "# Langkah 1 - Akses folder gambar di Google Drive"
      ],
      "metadata": {
        "id": "CwHnozSic-Aa"
      }
    },
    {
      "cell_type": "code",
      "execution_count": 4,
      "metadata": {
        "id": "pfG9LEj3JwI1",
        "outputId": "332e9fe3-12f0-40b7-f796-42021b5f759d",
        "colab": {
          "base_uri": "https://localhost:8080/"
        }
      },
      "outputs": [
        {
          "output_type": "stream",
          "name": "stdout",
          "text": [
            "Drive already mounted at /content/drive; to attempt to forcibly remount, call drive.mount(\"/content/drive\", force_remount=True).\n"
          ]
        }
      ],
      "source": [
        "from google.colab import drive  # Mengimpor modul 'drive' dari pustaka 'google.colab'\n",
        "                                 # untuk mengakses Google Drive di Google Colab.\n",
        "\n",
        "drive.mount('/content/drive')   # Memasang (mount) Google Drive ke direktori '/content/drive'\n",
        "                                 # sehingga file di Google Drive bisa diakses seperti file lokal.\n"
      ]
    }
  ]
}